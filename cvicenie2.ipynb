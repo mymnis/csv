{
 "cells": [
  {
   "cell_type": "markdown",
   "metadata": {},
   "source": [
    "# Cvičenie 2 - Časové rady\n",
    "&nbsp;"
   ]
  },
  {
   "cell_type": "markdown",
   "metadata": {},
   "source": [
    "Časové rady sú dátové množiny pri ktorých sú jednotlivé hodnoty usporiadané sekvenčne\n",
    "v čase. Sú definované počiatočným a koncovým časom (napr. dáta od roku 2016 do 2017)\n",
    "a frekvenciou vzorkovania (napr. s frekvenciou 12 pre mesačné dáta). V prostredí R sa\n",
    "používajú na reprezentáciu časových radov objekty typu `ts`, ktoré môžete priamo načítať ako\n",
    "dátovú množinu. \n",
    "\n",
    "\n",
    "Množina `AirPassengers` udáva nárast cestujúcich v leteckej dobre v USA a obsahuje hodnoty\n",
    "od `januára 1949 (1949,1)` do `decembra 1960 (1960,12)`. Vzorkovacia frekvencia je `12 hodnôt`\n",
    "na rok (tzv. mesačné dáta). \n",
    "\n",
    "Funkcia `summary(ts)` zobrazuje len základné charakteristiky číselný hodnôt,\n",
    "ktoré tvoria časový rad. Počiatočný a koncový čas a frekvenciu vzorkovania môžete vypísať\n",
    "funkciami `start(ts)`, `end(ts)` a `frequency(ts)`:"
   ]
  },
  {
   "cell_type": "code",
   "execution_count": null,
   "metadata": {},
   "outputs": [],
   "source": [
    "data(\"AirPassengers\")\n",
    "ap = AirPassengers"
   ]
  },
  {
   "cell_type": "code",
   "execution_count": null,
   "metadata": {},
   "outputs": [],
   "source": [
    "summary(ap)"
   ]
  },
  {
   "cell_type": "code",
   "execution_count": null,
   "metadata": {},
   "outputs": [],
   "source": [
    "start(ap)"
   ]
  },
  {
   "cell_type": "code",
   "execution_count": null,
   "metadata": {},
   "outputs": [],
   "source": [
    "end(ap)"
   ]
  },
  {
   "cell_type": "code",
   "execution_count": null,
   "metadata": {},
   "outputs": [],
   "source": [
    "frequency(ap)"
   ]
  },
  {
   "cell_type": "markdown",
   "metadata": {},
   "source": [
    "Časové rady si môžete priamo vykresliť pomocou funkcie plot:"
   ]
  },
  {
   "cell_type": "code",
   "execution_count": null,
   "metadata": {},
   "outputs": [],
   "source": [
    "plot(ap, type=\"o\")"
   ]
  },
  {
   "cell_type": "markdown",
   "metadata": {},
   "source": [
    "Pomocou funkcie `window` je možné vybrať podmnožinu časového radu resp. zmeniť\n",
    "vzorkovaciu frekvenciu, napr. ak chceme vybrať hodnoty iba za rok 1950 (od januára do\n",
    "decembra) môžeme zadať:"
   ]
  },
  {
   "cell_type": "code",
   "execution_count": null,
   "metadata": {},
   "outputs": [],
   "source": [
    "window(ap, start=c(1950,1), end=c(1950,12))"
   ]
  },
  {
   "cell_type": "markdown",
   "metadata": {},
   "source": [
    "<br/><br/>\n",
    "\n",
    "### Použitie funkcií nad dátami"
   ]
  },
  {
   "cell_type": "markdown",
   "metadata": {},
   "source": [
    "Dáta za jednotlivé roky (hlavné časové jednotky) je možné agregovať pomocou funkcie\n",
    "`aggregate`, napr. priemerné hodnoty za rok je možné vypočítať ako:"
   ]
  },
  {
   "cell_type": "code",
   "execution_count": null,
   "metadata": {},
   "outputs": [],
   "source": [
    "print(aggregate(ap, FUN=mean))"
   ]
  },
  {
   "cell_type": "markdown",
   "metadata": {},
   "source": [
    "Dáta je možné agregovať aj s inou frekvenciou, napr. sumu za pol roka (1/2 hlavnej jednotky)\n",
    "a za štvrť rok (1/4 hlavnej jednotky) môžete vypočítať ako: "
   ]
  },
  {
   "cell_type": "code",
   "execution_count": null,
   "metadata": {},
   "outputs": [],
   "source": [
    "aggregate(ap, FUN=sum, nfrequency=2)\n",
    "aggregate(ap, FUN=sum, nfrequency=4)"
   ]
  },
  {
   "cell_type": "markdown",
   "metadata": {},
   "source": [
    "Všetky hodnoty je možné agregovať priamo, napr. priemer môžeme určiť funkciou mean:"
   ]
  },
  {
   "cell_type": "code",
   "execution_count": null,
   "metadata": {},
   "outputs": [],
   "source": [
    "mean(ap)"
   ]
  },
  {
   "cell_type": "markdown",
   "metadata": {},
   "source": [
    "<br/><br/>\n",
    "### Možnosti vytvorenia časových radov"
   ]
  },
  {
   "cell_type": "markdown",
   "metadata": {},
   "source": [
    "1. Objekt časového radu je možné vytvoriť aj z **vektora číselných hodnôt**. Napr. pre priebeh\n",
    "funkcie `0.25sin(10x) + 0.5x + 1` na intervale 0 az 5 s krokom 0.1:"
   ]
  },
  {
   "cell_type": "code",
   "execution_count": null,
   "metadata": {},
   "outputs": [],
   "source": [
    "x = seq(from=0, to=5, by=0.1)\n",
    "y = 0.25*sin(10*x) + 0.5*x + 1"
   ]
  },
  {
   "cell_type": "markdown",
   "metadata": {},
   "source": [
    "Objekt vytvoríme funkciou `ts`, kde nastavíme počiatočný čas a frekvenciu vzorkovania, napr.:"
   ]
  },
  {
   "cell_type": "code",
   "execution_count": null,
   "metadata": {},
   "outputs": [],
   "source": [
    "t = ts(y, start=c(2017,1), frequency=12)\n",
    "plot(t)"
   ]
  },
  {
   "cell_type": "markdown",
   "metadata": {},
   "source": [
    "2. Pomocou funkcie ts môžeme vytvoriť časový rad aj z **tabuľkových dát**. Dáta môžeme stiahnuť\n",
    "priamo z internetu, napr. nasledujúci súbor Maine.dat udáva mesačnú mieru nezamestnanosti\n",
    "v štáte Maine za obdobie 1996 do 2006:"
   ]
  },
  {
   "cell_type": "code",
   "execution_count": null,
   "metadata": {},
   "outputs": [],
   "source": [
    "data = read.table(\"data/Maine.dat\", header=TRUE) \n",
    "data"
   ]
  },
  {
   "cell_type": "code",
   "execution_count": null,
   "metadata": {},
   "outputs": [],
   "source": [
    "maine = ts(data, start=c(1996,1), frequency=12)\n",
    "maine"
   ]
  },
  {
   "cell_type": "markdown",
   "metadata": {},
   "source": [
    "<br/><br/>\n",
    "## <span style=\"color:green\"> **Základné charakteristiky časových radov** </span>"
   ]
  },
  {
   "cell_type": "code",
   "execution_count": null,
   "metadata": {},
   "outputs": [],
   "source": [
    "plot(ap)"
   ]
  },
  {
   "cell_type": "markdown",
   "metadata": {},
   "source": [
    "Z priebehu dát `AirPassengers` vidno, že sa počet pasažierov postupne systematicky zvyšuje,\n",
    "tzn. dáta majú rastúci **trend**. Okrem trendu vidno cyklické zmeny, ktoré sa periodicky opakujú\n",
    "– ide o tzv. **sezónnosť**. Časové rady môžeme modelovať rôznou kombináciou trendu `t`,\n",
    "sezónnosti `s` a **náhodnej zložky** `z`. Najjednoduchším modelom je **aditívny model**, kde sa\n",
    "hodnoty radu rovnajú súčtu zložiek: `x = t + s + z`. Medzi ďalšie modely patrí napr.\n",
    "**multiplikatívny model**: `x = t.s.z`.\n",
    "\n",
    "Najjednoduchší spôsob extrahovania **trendu** je pomocou **centrovaného kĺzavého priemeru**\n",
    "v okolí každej hodnoty `xt`, ktorý je možné vypočítať pomocou funkcie `filter`. Centrovaný\n",
    "kĺzavý priemer je vážený priemer, kde prvá a posledná hodnota má váhu 1/2, tzn. napr. pre 12\n",
    "mesiacov sú váhy `(0.5,1,1,1,1,1,1,1,1,1,1,0.5)/12`:"
   ]
  },
  {
   "cell_type": "code",
   "execution_count": null,
   "metadata": {},
   "outputs": [],
   "source": [
    "ap.t = filter(ap, c(0.5,1,1,1,1,1,1,1,1,1,1,0.5)/12)\n",
    "plot(ap.t)"
   ]
  },
  {
   "cell_type": "markdown",
   "metadata": {},
   "source": [
    "Pre aditívny model je možné zvyšné zložky extrahovať odpočítaním od pôvodného radu:"
   ]
  },
  {
   "cell_type": "code",
   "execution_count": null,
   "metadata": {},
   "outputs": [],
   "source": [
    "ap.sz = ap - ap.t\n",
    "plot(ap.sz)"
   ]
  },
  {
   "cell_type": "markdown",
   "metadata": {},
   "source": [
    "Z priebehu vidno, že sa cyklické zložky postupne zvyšujú, čo môže indikovať, že je pre tieto\n",
    "dáta vhodnejší multiplikatívny model. Všetky zložky časového radu pre rôzne typy modelov\n",
    "je možné vypočítať pomocou funkcie `decompose`, napr. pre **multiplikatívny model**:"
   ]
  },
  {
   "cell_type": "code",
   "execution_count": null,
   "metadata": {},
   "outputs": [],
   "source": [
    "ap.decomp = decompose(ap, type=\"multiplicative\")\n",
    "plot(ap.decomp)"
   ]
  },
  {
   "cell_type": "markdown",
   "metadata": {},
   "source": [
    "Jednotlivé zložky modelu sú dostupné vo vlastnostiach `seasonal`, `trend` a `random`. Napr.\n",
    "nasledujúci príkaz vypočíta základné štatistiky pre **sezónnu zložku**:"
   ]
  },
  {
   "cell_type": "code",
   "execution_count": null,
   "metadata": {},
   "outputs": [],
   "source": [
    "summary(ap.decomp$seasonal) "
   ]
  },
  {
   "cell_type": "markdown",
   "metadata": {},
   "source": [
    "<br/><br/>\n",
    "### Úlohy"
   ]
  },
  {
   "cell_type": "markdown",
   "metadata": {},
   "source": [
    "**1.** Načítajte dáta `Maine` a vytvorte časový rad pre\n",
    "mesačné dáta od januára 1996. Vykreslite priebeh. Vypočítajte priemernú hodnotu pre\n",
    "prvé tri a posledné tri mesiace v roku 1996. Zistite o koľko % sa tieto priemery\n",
    "odlišujú od priemeru počas celého roku 1996."
   ]
  },
  {
   "cell_type": "code",
   "execution_count": null,
   "metadata": {},
   "outputs": [],
   "source": []
  },
  {
   "cell_type": "markdown",
   "metadata": {},
   "source": [
    "**2.** Pre dátovú množinu `Maine` vypočítajte agregovaný časový rad pre priemerné\n",
    "štvrťročné hodnoty a zobrazte jeho priebeh."
   ]
  },
  {
   "cell_type": "code",
   "execution_count": null,
   "metadata": {},
   "outputs": [],
   "source": []
  },
  {
   "cell_type": "markdown",
   "metadata": {},
   "source": [
    "**3.** Načítajte dáta `cbe`. Dáta obsahujú dátovú\n",
    "množinu so stĺpcami určujúcimi mesačnú produkciu čokolády (stĺpec 1), piva (stĺpec 2)\n",
    "a elektrickej energie (stĺpec 3) od roku 1958. Načítajte dáta ako časové rady (pre výber\n",
    "stĺpca môžete použiť zápis CBE[,1], CBE[,2], CBE[,3). Zobrazte všetky tri časové\n",
    "rady v jednom grafe pomocou funkcie `plot` a `cbind`."
   ]
  },
  {
   "cell_type": "code",
   "execution_count": null,
   "metadata": {},
   "outputs": [],
   "source": []
  },
  {
   "cell_type": "markdown",
   "metadata": {},
   "source": [
    "**4.** Vypočítajte koreláciu medzi produkciou čokolády a piva."
   ]
  },
  {
   "cell_type": "code",
   "execution_count": null,
   "metadata": {},
   "outputs": [],
   "source": []
  },
  {
   "cell_type": "markdown",
   "metadata": {},
   "source": [
    "**5.** Na dátovej množine `AirPassengers` postupne aplikujte kĺzavý priemer s šírkou 4\n",
    "mesiace, 6 mesiacov a 12 mesiacov (tzn. váhy pre 4 mesiace budú `(0.5,1,1,0.5)/4`).\n",
    "Vyextrahujte trendovú zložku pre každý filter podľa aditívneho modelu a zobrazte jej\n",
    "priebeh."
   ]
  },
  {
   "cell_type": "code",
   "execution_count": null,
   "metadata": {},
   "outputs": [],
   "source": []
  },
  {
   "cell_type": "markdown",
   "metadata": {},
   "source": [
    "**6.** Pomocou funkcie decompose vygenerujte a zobrazte zložky pre aditívny\n",
    "a multiplikatívny model pre dátovú množinu `AirPassangers`"
   ]
  },
  {
   "cell_type": "code",
   "execution_count": null,
   "metadata": {},
   "outputs": [],
   "source": []
  },
  {
   "cell_type": "markdown",
   "metadata": {},
   "source": [
    "**7.** Na intervale [0,5] s krokom 0.1 vygenerujte priebeh funkcií `y = 0.5x + 1 a z = 0.25sin(10x)`. Vygenerujte rovnako veľký náhodný vektor `n` podľa normálneho\n",
    "rozdelenia s 0 strednou hodnotou a štandardnou odchýlkou 0.5. Vykreslite priebehy\n",
    "funkcií na jednom zloženom grafe pomocou funkcie `plot` a `cbind`."
   ]
  },
  {
   "cell_type": "code",
   "execution_count": null,
   "metadata": {},
   "outputs": [],
   "source": []
  },
  {
   "cell_type": "markdown",
   "metadata": {},
   "source": [
    "**8.** Zo zložiek s predchádzajúceho príkladu vytvorte časový rad s aditívnym modelom `y + z + n`, a multiplikatívnym modelom `y.z.n`."
   ]
  },
  {
   "cell_type": "code",
   "execution_count": null,
   "metadata": {},
   "outputs": [],
   "source": []
  },
  {
   "cell_type": "markdown",
   "metadata": {},
   "source": [
    "**9.** Dekomponujte časové rady z predchádzajúceho priebehu pomocou funkcie\n",
    "`decompose`. Vytvorte pre oba priebehy obe dekompozície aj pre aditívny aj\n",
    "multiplikatívny model."
   ]
  },
  {
   "cell_type": "code",
   "execution_count": null,
   "metadata": {},
   "outputs": [],
   "source": []
  },
  {
   "cell_type": "markdown",
   "metadata": {},
   "source": [
    "**10.** Nahraďte lineárny trend logaritmickým `y = log(x + 1)`, vytvorte aditívny\n",
    "a multiplikatívny časový rad a dekomponujte ich zložky"
   ]
  },
  {
   "cell_type": "code",
   "execution_count": null,
   "metadata": {},
   "outputs": [],
   "source": []
  }
 ],
 "metadata": {
  "kernelspec": {
   "display_name": "R",
   "language": "R",
   "name": "ir"
  },
  "language_info": {
   "codemirror_mode": "r",
   "file_extension": ".r",
   "mimetype": "text/x-r-source",
   "name": "R",
   "pygments_lexer": "r",
   "version": "4.2.2"
  }
 },
 "nbformat": 4,
 "nbformat_minor": 4
}
