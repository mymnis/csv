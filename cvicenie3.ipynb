{
 "cells": [
  {
   "cell_type": "markdown",
   "metadata": {},
   "source": [
    "# Cvičenie 3 - Lineárna regresia"
   ]
  },
  {
   "cell_type": "markdown",
   "metadata": {},
   "source": [
    "<object data=\"https://miroslava.matejova.website.tuke.sk/IE/IE/cvicenie3.pdf\" type=\"application/pdf\" width=\"700px\" height=\"700px\">\n",
    "    <embed src=\"https://miroslava.matejova.website.tuke.sk/IE/IE/cvicenie3.pdf\">\n",
    "        <p> Cvičenie v PDF dostupné: <a href=\"https://miroslava.matejova.website.tuke.sk/IE/IE/cvicenie3.pdf\">TU!</a></p>\n",
    "    </embed>\n",
    "</object>"
   ]
  },
  {
   "cell_type": "markdown",
   "metadata": {},
   "source": [
    "V `R` môžeme parametre lineárneho modelu vypočítať pomocou funkcie `lm`.\n",
    "\n",
    "Nasledujúci príklad načíta dátovú množinu `Iris`, vyfiltruje iba príklady z triedy `setosa`, a vypočíta lineárny\n",
    "model s jedným **vstupným** atribútom `iris$Sepal.Length` pre **výstupnú** hodnotu `iris$Sepal.Width`"
   ]
  },
  {
   "cell_type": "code",
   "execution_count": null,
   "metadata": {},
   "outputs": [],
   "source": [
    "data(iris)\n",
    "setosa <- iris[iris$Species == \"setosa\", ]\n",
    "attach(setosa)"
   ]
  },
  {
   "cell_type": "code",
   "execution_count": null,
   "metadata": {},
   "outputs": [],
   "source": [
    "setosa"
   ]
  },
  {
   "cell_type": "code",
   "execution_count": null,
   "metadata": {},
   "outputs": [],
   "source": [
    "sepal_lm <- lm(Sepal.Width ~ Sepal.Length) # y = b0 + b1x1 + b2x2 + b3x3 + ... + bmxm\n",
    "sepal_lm "
   ]
  },
  {
   "cell_type": "code",
   "execution_count": null,
   "metadata": {},
   "outputs": [],
   "source": [
    "plot(Sepal.Length, Sepal.Width)\n",
    "abline(sepal_lm)"
   ]
  },
  {
   "cell_type": "markdown",
   "metadata": {},
   "source": [
    "V príklade je vykreslená regresná priamka, ktorá určuje **predikovanú hodnotu f(x)** . Ďalšie\n",
    "vstupné atribúty je možné pridať do modelu pomocou operátora `+`, napr. `lm(Y ~ X1 + X2 +\n",
    "X3)` je lineárny model, ktorý **predikuje atribút `Y`** na základe troch **vstupných** atribútov `X1`, `X2`\n",
    "a `X3`."
   ]
  },
  {
   "cell_type": "markdown",
   "metadata": {},
   "source": [
    "Pomocou funkcie summary si môžeme vypísať základné štatistiky o rezíduách a parametroch\n",
    "modelu:"
   ]
  },
  {
   "cell_type": "code",
   "execution_count": null,
   "metadata": {},
   "outputs": [],
   "source": [
    "summary(sepal_lm)"
   ]
  },
  {
   "cell_type": "markdown",
   "metadata": {},
   "source": [
    "#### Popis funkcie `summary`"
   ]
  },
  {
   "cell_type": "markdown",
   "metadata": {},
   "source": [
    "Rozdiely medzi predikovanou hodnotu a skutočnou hodnotou `y` sa označujú ako **rezíduá**.\n",
    "V časti `Residuals` sú informácie o základných štatistikách rezíduí. Tieto rozdiely by mali byť\n",
    "v absolútnej hodnote čo najmenšie. Rezíduá pre všetky trénovacie príklady môžete získať\n",
    "pomocou funkcie `residuals`"
   ]
  },
  {
   "cell_type": "code",
   "execution_count": null,
   "metadata": {},
   "outputs": [],
   "source": [
    "residuals(sepal_lm)"
   ]
  },
  {
   "cell_type": "markdown",
   "metadata": {},
   "source": [
    "Celkovú chybu (sumu štvorcov rezíduí – z čoho sa minimalizovanie kvadratickej chybovej\n",
    "funkcie označuje metóda najmenších štvorcov) môžete vypísať funkciou:"
   ]
  },
  {
   "cell_type": "code",
   "execution_count": null,
   "metadata": {},
   "outputs": [],
   "source": [
    "deviance(sepal_lm)"
   ]
  },
  {
   "cell_type": "markdown",
   "metadata": {},
   "source": [
    "#### Coefficients"
   ]
  },
  {
   "cell_type": "markdown",
   "metadata": {},
   "source": [
    "V prehľade viete ďalej zistiť hodnoty samotných parametrov v časti `Coefficients`. Parameter\n",
    "$\\beta_0$ sa označuje ako `Intercept`, pretože určuje v ktorom bode bude regresná priamka **pretínať\n",
    "os Y**. Keďže ostatné parametre $\\beta_1 ... \\beta_m $ zodpovedajú jednotlivým **vstupným** atribútom,\n",
    "parametre sú označené názvom zodpovedajúceho atribútu, napr. `Sepal.Length`. \n",
    "\n",
    "To, ako jedôležitý atribút pre výslednú predikciu určuje absolútna veľkosť zodpovedajúceho\n",
    "parametra, ak sa parameter blíži k 0, atribút je možné z modelu vynechať bez toho aby sa\n",
    "výrazne zmenila predikcia. Významnosť atribútov sa testuje štatistickým testom ktorého\n",
    "hypotéza je, že sa zodpovedajúci parameter = 0. Čím menšia je táto pravdepodobnosť, tým\n",
    "dôležitejší je daný atribút (čo je označené vo výpise aj hviezdičkami, *** dôležitý atribút, **\n",
    "stredne dôležitý, atď.)"
   ]
  },
  {
   "cell_type": "markdown",
   "metadata": {},
   "source": [
    "#### Predikcia\n",
    "\n",
    "Ak chcete vypočítať predikovanú hodnotu pre nové vstupné dáta, môžete použiť funkciu\n",
    "`predict`:"
   ]
  },
  {
   "cell_type": "code",
   "execution_count": null,
   "metadata": {},
   "outputs": [],
   "source": [
    "predict(sepal_lm, newdata = data.frame(Sepal.Length=6))"
   ]
  },
  {
   "cell_type": "markdown",
   "metadata": {},
   "source": [
    "Pomocou predikt môžeme vypočítať aj hodnoty pre viac príkladov naraz."
   ]
  },
  {
   "cell_type": "markdown",
   "metadata": {},
   "source": [
    "Podľa variancie vstupných dát vieme pri lineárnej regresii odhadnúť aj varianciu parametrov,\n",
    "ktorá je uvedená ako štandardná odchýlka pri výpise summary pre každý parameter. Keďže\n",
    "parametre sú odhadované iba s určitou varianciou, aj samotná predikcia je len odhad pre\n",
    "ktorý môžeme určiť varianciu v akom rozsahu sa bude predikovaná hodnota\n",
    "najpravdepodobnejšie pohybovať. Tento interval si môžete vypísať pomocou funkcie\n",
    "`predict`:"
   ]
  },
  {
   "cell_type": "code",
   "execution_count": null,
   "metadata": {},
   "outputs": [],
   "source": [
    "predict(sepal_lm, newdata = data.frame(Sepal.Length=6), interval=\"prediction\")"
   ]
  },
  {
   "cell_type": "markdown",
   "metadata": {},
   "source": [
    "Pomocou `predict` je potom možné zobraziť aj intervaly spoľahlivosti pre predikciu (v tomto\n",
    "intervale by sa mala s veľkou pravdepodobnosťou pohybovať skutočná hodnota). \n",
    "\n",
    "Najprv si\n",
    "vygenerujeme vstupné dáta (interval od 4 do 6 s krokom 0.25) a potom vypočítame\n",
    "predikciu aj s intervalom:"
   ]
  },
  {
   "cell_type": "code",
   "execution_count": null,
   "metadata": {},
   "outputs": [],
   "source": [
    "lengths <- seq(from=4, to=6, by=0.25)\n",
    "predictions <- predict(sepal_lm, newdata =data.frame(Sepal.Length=lengths), interval=\"prediction\")"
   ]
  },
  {
   "cell_type": "code",
   "execution_count": null,
   "metadata": {},
   "outputs": [],
   "source": [
    "lengths"
   ]
  },
  {
   "cell_type": "code",
   "execution_count": null,
   "metadata": {},
   "outputs": [],
   "source": [
    "predictions"
   ]
  },
  {
   "cell_type": "markdown",
   "metadata": {},
   "source": [
    "Hodnoty si zobrazíme v grafe ako interval pomocou horného a spodného ohraničenia:"
   ]
  },
  {
   "cell_type": "code",
   "execution_count": null,
   "metadata": {},
   "outputs": [],
   "source": [
    "plot(Sepal.Length, Sepal.Width)\n",
    "lines(predictions[,1] ~ lengths, col=1)\n",
    "lines(predictions[,2] ~ lengths, col=1, lty=2)\n",
    "lines(predictions[,3] ~ lengths, col=1, lty=2)"
   ]
  },
  {
   "cell_type": "markdown",
   "metadata": {},
   "source": [
    "Všimnite si, že sa pri krajných hodnotách 4 a 6 interval mierne rozširuje (tzn. pre krajné\n",
    "vstupné hodnoty môže byť predikovaná hodnota vypočítaná s väčšou varianciou)."
   ]
  },
  {
   "cell_type": "markdown",
   "metadata": {},
   "source": [
    "# Úlohy na cvičení"
   ]
  },
  {
   "cell_type": "markdown",
   "metadata": {},
   "source": [
    "1. Načítajte dátovú množinu `Iris`, odfiltrujte príklady z triedy `setosa` a vytvorte lineárny\n",
    "model predikujúci atribút `Petal.Width` pre vstupný atribút `Petal.Length`. Vizualizujte\n",
    "dáta a regresnú priamku"
   ]
  },
  {
   "cell_type": "code",
   "execution_count": null,
   "metadata": {},
   "outputs": [],
   "source": []
  },
  {
   "cell_type": "markdown",
   "metadata": {},
   "source": [
    "2. Vypočítajte celkovú sumu kvadrátov rezíduí modelu z predošlého príkladu a\n",
    "korelačný koeficient medzi vstupným a výstupným atribútom. Zobrazte histogram\n",
    "rezíduí."
   ]
  },
  {
   "cell_type": "code",
   "execution_count": null,
   "metadata": {},
   "outputs": [],
   "source": []
  },
  {
   "cell_type": "markdown",
   "metadata": {},
   "source": [
    "3. Vypočítajte predikciu a interval spoľahlivosti pre trénovacie dáta. Zobrazte graf s\n",
    "dátami, regresnou priamkou a intervalovými hranicami."
   ]
  },
  {
   "cell_type": "code",
   "execution_count": null,
   "metadata": {},
   "outputs": [],
   "source": []
  },
  {
   "cell_type": "markdown",
   "metadata": {},
   "source": [
    "4. Z množiny iris odfiltrujte iba príklady z triedy versicolor, vypočítajte predikciu a\n",
    "intervalové odhady. Zobrazte graf s dátami, regresnou priamkou, a intervalovými\n",
    "hranicami."
   ]
  },
  {
   "cell_type": "code",
   "execution_count": null,
   "metadata": {},
   "outputs": [],
   "source": []
  },
  {
   "cell_type": "markdown",
   "metadata": {},
   "source": [
    "5. Vytvorte rozšírený model, ktorý bude mať okrem `Petal.Length` na vstupe aj atribút\n",
    "`Sepal.Width`. Zistite, ktoré parametre modelu sú štatisticky významné, a porovnajte\n",
    "chybu rozšíreného modelu s predchádzajúcim príkladom."
   ]
  },
  {
   "cell_type": "code",
   "execution_count": null,
   "metadata": {},
   "outputs": [],
   "source": []
  },
  {
   "cell_type": "markdown",
   "metadata": {},
   "source": [
    "6. Medzi vstupné atribúty môžete pridať aj faktory (nominálne atribúty). Ak má faktor\n",
    "napr. 3 hodnoty, `setosa`, `versicolor` a `virginica`, pri zahrnutí do modelu sa prvá\n",
    "hodnota `setosa` použije ako tzv. referenčná a pre zvyšné hodnoty `versicolor` a\n",
    "`virginica` sa vygenerujú binárne (tzv. kontrastné) atribúty, pre ktoré sa vypočítajú\n",
    "dodatočné parametre modelu. Načítajte celú množinu dát `Iris` a vytvorte model, ktorý\n",
    "bude predikovať `Petal.Width` na základe atribútov `Petal.Length` a `Species`. Zistite,\n",
    "ktoré z kontrastných hodnôt `versicolor`, alebo `virginica` je viac dôležitá pre predikciu."
   ]
  },
  {
   "cell_type": "code",
   "execution_count": null,
   "metadata": {},
   "outputs": [],
   "source": []
  },
  {
   "cell_type": "markdown",
   "metadata": {},
   "source": [
    "7. Vygenerujte si náhodné vektory `X1`, `X2` a `X3` s 50 hodnotami podľa uniformného\n",
    "rozdelenia pravdepodobnosti z intervalu 1 až 10. Vytvorte vektor hodnôt `Y = 0.5 +\n",
    "2*X1 + 1.5 *X2 + X3`. K vektoru Y pripočítajte náhodný šum s normálnym rozdelením s\n",
    "0 strednou hodnotou a štandardnou odchýlkou 0.5. Vypočítajte parametre\n",
    "lineárneho modelu priamo analyticky z výrazu **$(X^TX)^{-1}X^Ty = \\beta $**. Vypočítajte pre každý príklad predikciu a rezíduá."
   ]
  },
  {
   "cell_type": "code",
   "execution_count": null,
   "metadata": {},
   "outputs": [],
   "source": []
  },
  {
   "cell_type": "markdown",
   "metadata": {},
   "source": [
    "8. Pridajte do predchádzajúceho modelu atribút `X4`, ktorého hodnoty sú vždy\n",
    "dvojnásobkom atribútu `X1` (tzn. `X4=2*X1`). Vypočítajte znova analyticky parametre\n",
    "modelu (malo by dôjsť k chybe, pre maticu `X` by sa nemala dať vypočítať inverzná\n",
    "matica ak obsahuje lineárne závislé stĺpce). Vypočítajte korelačný koeficient medzi `X1`\n",
    "a `X4`. Odstráňte atribút `X1` a zvona vypočítajte parametre lineárneho modelu,\n",
    "porovnajte vypočítané parametre s predchádzajúcim príkladom."
   ]
  },
  {
   "cell_type": "code",
   "execution_count": null,
   "metadata": {},
   "outputs": [],
   "source": []
  }
 ],
 "metadata": {
  "kernelspec": {
   "display_name": "R",
   "language": "R",
   "name": "ir"
  },
  "language_info": {
   "codemirror_mode": "r",
   "file_extension": ".r",
   "mimetype": "text/x-r-source",
   "name": "R",
   "pygments_lexer": "r",
   "version": "4.2.2"
  }
 },
 "nbformat": 4,
 "nbformat_minor": 4
}
